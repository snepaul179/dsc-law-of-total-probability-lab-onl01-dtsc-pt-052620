{
 "cells": [
  {
   "cell_type": "markdown",
   "metadata": {},
   "source": [
    "# Partitioning and Law of Total Probability - Lab\n",
    "\n",
    "## Introduction \n",
    "In this lab, you'll practice your knowledge of the law of total probability. In probability theory, the law (or formula) of total probability is a fundamental rule relating **marginal probabilities** to **conditional probabilities**.\n",
    "\n",
    "## Objectives\n",
    "\n",
    "You will be able to:\n",
    "\n",
    "* Differentiate between independent and dependent events\n",
    "* Perform partitioning based on known and unknown probabilities to solve a problem"
   ]
  },
  {
   "cell_type": "markdown",
   "metadata": {},
   "source": [
    "## Exercise 1\n",
    "Imagine you have two hats: one has 4 red balls and 6 green balls, the other has 6 red and 4 green. We toss a fair coin, if heads, you will pick a random ball from the first hat, if tails you will pick one from the second hat. \n",
    "\n",
    "What is the probability of getting a red ball?"
   ]
  },
  {
   "cell_type": "code",
   "execution_count": 1,
   "metadata": {
    "ExecuteTime": {
     "end_time": "2020-08-05T03:20:47.654646Z",
     "start_time": "2020-08-05T03:20:47.641138Z"
    }
   },
   "outputs": [
    {
     "data": {
      "text/plain": [
       "0.5"
      ]
     },
     "execution_count": 1,
     "metadata": {},
     "output_type": "execute_result"
    }
   ],
   "source": [
    "# Your code here\n",
    "Prob_RgivenH = 4/10\n",
    "Prob_RgivenT = 6/10\n",
    "Prob_HorT = 1/2\n",
    "\n",
    "Prob_Redball = (Prob_RgivenH*Prob_HorT)+(Prob_RgivenT*Prob_HorT)\n",
    "Prob_Redball"
   ]
  },
  {
   "cell_type": "markdown",
   "metadata": {},
   "source": [
    "## Exercise 2\n",
    "In games where at least one goal is made, a soccer team wins 60% of its games when it scores the first goal, and 10% of its games when the opposing team \n",
    "scores first. \n",
    "\n",
    "If the team scores the first goal about 30% of the time, what fraction of the games does it win?"
   ]
  },
  {
   "cell_type": "code",
   "execution_count": 2,
   "metadata": {
    "ExecuteTime": {
     "end_time": "2020-08-05T03:30:23.700825Z",
     "start_time": "2020-08-05T03:30:23.688178Z"
    }
   },
   "outputs": [
    {
     "data": {
      "text/plain": [
       "0.25"
      ]
     },
     "execution_count": 2,
     "metadata": {},
     "output_type": "execute_result"
    }
   ],
   "source": [
    "# Your code here\n",
    "Win_W_firstG = 0.6\n",
    "Win_WO_firstG = 0.1\n",
    "FirstG = 0.3\n",
    "NotFirstG = 0.7\n",
    "\n",
    "WinProb = (Win_W_firstG*FirstG)+(Win_WO_firstG*NotFirstG)\n",
    "WinProb"
   ]
  },
  {
   "cell_type": "markdown",
   "metadata": {},
   "source": [
    "## Exercise 3"
   ]
  },
  {
   "cell_type": "markdown",
   "metadata": {},
   "source": [
    "In Europe, except for regular gas, cars often run on diesel as well. At a gas station in Paris; \n",
    "\n",
    "\n",
    "* 40% of the customers fill up with diesel (event G1) \n",
    "* 35% with gas \"Super 95\" (event G2)\n",
    "* 25% with gas \"Super 98\" (event G3). \n",
    "\n",
    "\n",
    "* 30% of the customers who buy diesel fill their tank completely (event F). \n",
    "* For \"Super 95\" and \"Super 98\", these numbers are  60% and 50%, respectively.\n",
    "\n",
    "\n",
    "- Compute the probability that the next customer completely fills their tank and buys Super 95. \n",
    "- Compute the probability that the next customer completely fills their tank\n",
    "- Given that the next customer fills their tank completely, compute the probability that they bought diesel. \n",
    "\n",
    "Hint: Consult the theorems for conditional probability, check for dependence or independence of events"
   ]
  },
  {
   "cell_type": "code",
   "execution_count": 10,
   "metadata": {
    "ExecuteTime": {
     "end_time": "2020-08-05T03:54:19.431949Z",
     "start_time": "2020-08-05T03:54:19.418418Z"
    }
   },
   "outputs": [
    {
     "name": "stdout",
     "output_type": "stream",
     "text": [
      "Probability that the next customer completely fills their tank and buys Super 95 \n",
      "P(S95 and FillUp): 0.21 \n",
      "\n",
      "Probability that the next customer completely fills their tank \n",
      "P(FillUp): 0.45499999999999996 \n",
      "\n",
      "Probability that they bought diesel given they fills thier tank \n",
      "P(Diesel|FillUp) 0.26373626373626374 \n",
      "\n"
     ]
    }
   ],
   "source": [
    "# Your code here\n",
    "Dieselcar = 0.4\n",
    "S95car = 0.35\n",
    "S98car = 0.25\n",
    "\n",
    "DieselFillUp = .3\n",
    "S95FillUp = .6\n",
    "S98FillUp = .5\n",
    "\n",
    "# Probability that it was Super95 car and got fill up\n",
    "Prob_S95carfillup = S95car*S95FillUp # P(S95 & FillUp)\n",
    " \n",
    "# Prob the next car got a fill up \n",
    "ProbFillUp = (Dieselcar*DieselFillUp)+(S95car*S95FillUp)+(S98car*S98FillUp) # P(D&Full) or P(S95&Full) or P(S98&Full)\n",
    "\n",
    "# Prob that the next car was diesel given that it got a complete fill up\n",
    "Prob_Diesel = (Dieselcar*DieselFillUp)/ProbFillUp # P(B|A) = P(Diesel and FillUp)/P(FillUp)\n",
    "\n",
    "print('Probability that the next customer completely fills their tank and buys Super 95 \\nP(S95 and FillUp):', Prob_S95carfillup, '\\n')\n",
    "print('Probability that the next customer completely fills their tank \\nP(FillUp):', ProbFillUp, '\\n')\n",
    "print('Probability that they bought diesel given they fills thier tank \\nP(Diesel|FillUp)', Prob_Diesel, '\\n')"
   ]
  },
  {
   "cell_type": "markdown",
   "metadata": {},
   "source": [
    "## Exercise 4"
   ]
  },
  {
   "cell_type": "markdown",
   "metadata": {},
   "source": [
    "United Airlines operates flights from JFK to Amsterdam, to Brussels, and to Copenhagen. As you may know, flights are overbooked fairly often. Let's denote the probability of the flight to Amsterdam being overbooked equal to 40%, the probability of the flight to Brussels being overbooked equal to 25%, and the probability of the flight to Copenhagen being overbooked equal to 35%. You can assume that these events of overbooking are independent events."
   ]
  },
  {
   "cell_type": "markdown",
   "metadata": {},
   "source": [
    "- Compute the probability that all the flights are overbooked.\n",
    "- Compute the probability of having at least one flight which is not overbooked.\n",
    "- Compute the probability that exactly one flight is overbooked."
   ]
  },
  {
   "cell_type": "code",
   "execution_count": 12,
   "metadata": {
    "ExecuteTime": {
     "end_time": "2020-08-05T04:18:18.369530Z",
     "start_time": "2020-08-05T04:18:18.348010Z"
    }
   },
   "outputs": [
    {
     "name": "stdout",
     "output_type": "stream",
     "text": [
      "0.034999999999999996\n",
      "0.965\n",
      "0.45\n"
     ]
    }
   ],
   "source": [
    "# Your code here\n",
    "AMS_over = .4\n",
    "BRU_over = .25\n",
    "COP_over = .35\n",
    "prob_flight = 1/3\n",
    "\n",
    "All_over = AMS_over*BRU_over*COP_over\n",
    "NotAll_over = 1-All_over\n",
    "\n",
    "# To compute the probability of the just 1 overbooked flight:\n",
    "# P(1overbooking) = P(justAMS) + P(justBRU) + P(justCOP)\n",
    "P_justAMS = (AMS_over) * (1-BRU_over) * (1-COP_over)\n",
    "P_justBRU = (1-AMS_over) * (BRU_over) * (1-COP_over)\n",
    "P_justCOP = (1-AMS_over) * (1-BRU_over) * (COP_over)\n",
    "\n",
    "P_just1_over = P_justAMS + P_justBRU + P_justCOP\n",
    "\n",
    "print(All_over)\n",
    "print(NotAll_over)\n",
    "print(P_just1_over)\n"
   ]
  },
  {
   "cell_type": "markdown",
   "metadata": {},
   "source": [
    "## Exercise 5\n",
    "You have three bags that each contain 100 marbles:\n",
    "\n",
    "- Bag 1 has 75 red and 25 blue marbles;\n",
    "- Bag 2 has 60 red and 40 blue marbles;\n",
    "- Bag 3 has 45 red and 55 blue marbles.\n",
    "\n",
    "You choose one of the bags at random and then pick a marble from the chosen bag, also at random. \n",
    "\n",
    "What is the probability that the chosen marble is red?\n"
   ]
  },
  {
   "cell_type": "code",
   "execution_count": 14,
   "metadata": {
    "ExecuteTime": {
     "end_time": "2020-08-05T04:25:52.415883Z",
     "start_time": "2020-08-05T04:25:52.391817Z"
    }
   },
   "outputs": [
    {
     "data": {
      "text/plain": [
       "0.6"
      ]
     },
     "execution_count": 14,
     "metadata": {},
     "output_type": "execute_result"
    }
   ],
   "source": [
    "# Probality of red marble for each bag is:\n",
    "\n",
    "Bag1_red = .75 # P(R|B1)\n",
    "Bag2_red = .6  #P(R|B2)\n",
    "Bag3_red = .45 #P(R|B3)\n",
    "Prob_bagi = 1/3 #P(Bi)\n",
    "\n",
    "# Probability of chosing a red marbel is \n",
    "# P(R) = P(R|B1)P(B1)+P(R|B2)P(B2)+P(R|B3)P(B3)\n",
    "Prob_red = (Bag1_red*Prob_bagi) + (Bag2_red*Prob_bagi) + (Bag3_red*Prob_bagi)\n",
    "Prob_red"
   ]
  },
  {
   "cell_type": "markdown",
   "metadata": {},
   "source": [
    "## Summary \n",
    "\n",
    "In this lab, you practiced conditional probability and its theorem with some simple problems. The key takeaway from this lab is to be able to identify random events as dependent or independent and calculating the probability of their occurrence using appropriate methods. Next, you'll take this knowledge a step further and run simulations with conditional and total probability. "
   ]
  }
 ],
 "metadata": {
  "kernelspec": {
   "display_name": "Python 3",
   "language": "python",
   "name": "python3"
  },
  "language_info": {
   "codemirror_mode": {
    "name": "ipython",
    "version": 3
   },
   "file_extension": ".py",
   "mimetype": "text/x-python",
   "name": "python",
   "nbconvert_exporter": "python",
   "pygments_lexer": "ipython3",
   "version": "3.6.9"
  },
  "toc": {
   "base_numbering": 1,
   "nav_menu": {},
   "number_sections": true,
   "sideBar": true,
   "skip_h1_title": false,
   "title_cell": "Table of Contents",
   "title_sidebar": "Contents",
   "toc_cell": false,
   "toc_position": {},
   "toc_section_display": true,
   "toc_window_display": false
  },
  "varInspector": {
   "cols": {
    "lenName": 16,
    "lenType": 16,
    "lenVar": 40
   },
   "kernels_config": {
    "python": {
     "delete_cmd_postfix": "",
     "delete_cmd_prefix": "del ",
     "library": "var_list.py",
     "varRefreshCmd": "print(var_dic_list())"
    },
    "r": {
     "delete_cmd_postfix": ") ",
     "delete_cmd_prefix": "rm(",
     "library": "var_list.r",
     "varRefreshCmd": "cat(var_dic_list()) "
    }
   },
   "types_to_exclude": [
    "module",
    "function",
    "builtin_function_or_method",
    "instance",
    "_Feature"
   ],
   "window_display": false
  }
 },
 "nbformat": 4,
 "nbformat_minor": 2
}
